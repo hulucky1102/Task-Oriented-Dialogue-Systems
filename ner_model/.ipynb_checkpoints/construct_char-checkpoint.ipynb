{
 "cells": [
  {
   "cell_type": "code",
   "execution_count": null,
   "metadata": {},
   "outputs": [],
   "source": [
    "import os\n",
    "import json\n",
    "import codecs\n",
    "import numpy as np\n",
    "import tensorflow as tf\n",
    "os.environ[\"CUDA_VISIBLE_DEVICES\"] = '1'\n",
    "gpus = tf.config.experimental.list_physical_devices(device_type='GPU')\n",
    "for gpu in gpus:\n",
    "    tf.config.experimental.set_memory_growth(gpu, True)"
   ]
  },
  {
   "cell_type": "code",
   "execution_count": null,
   "metadata": {},
   "outputs": [],
   "source": [
    "def extract_data(data_path):\n",
    "    \"\"\"\n",
    "    意图识别抽取出label\n",
    "    槽位识别与填充作为命名实体识别问题，对每一个字进行实体标注, ate_time', 'B-target', 'I-date_time', 'I-date_time', 'I-operation', 'I-date_time', 'I-date_time']\n",
    "[ ]:\n",
    "￼\n",
    "​B E I O S\n",
    "    \"\"\"\n",
    "    with codecs.open(data_path,\"r\",encoding=\"utf-8\") as fp:\n",
    "        data = json.load(fp)\n",
    "    texts = [example['text'].replace(\" \",\"\") for example in data]\n",
    "    intent_labels = [example['intent'] for example in data]\n",
    "    \n",
    "    slots_ners = []\n",
    "    count = 0\n",
    "    for example in data:\n",
    "        if 'entities' in example.keys():\n",
    "            text = example['text']\n",
    "            ner = ['O'] * len(text)\n",
    "            slots = example['entities']\n",
    "            for key,val in slots.items():\n",
    "                start_idx = text.find(val)\n",
    "                end_idx = start_idx + len(val) -1\n",
    "                if len(val) == 1:\n",
    "                    ner[start_idx] = 'S-' + key\n",
    "                else:\n",
    "                    ner[start_idx] = 'B-' + key\n",
    "                    ner[end_idx] = 'E-'+ key\n",
    "                    for idx in range(start_idx+1, end_idx):\n",
    "                        ner[idx] = 'I-' + key\n",
    "        else:\n",
    "            text = example['text']\n",
    "            ner = ['O'] * len(text)\n",
    "        slots_ners.append(ner)\n",
    "    print('texts len: ', len(texts))\n",
    "    print('intent_lables len: ',len(intent_labels))\n",
    "    print('slots_ners len: ', len(slots_ners))\n",
    "    return texts, intent_labels, slots_ners  "
   ]
  },
  {
   "cell_type": "code",
   "execution_count": null,
   "metadata": {},
   "outputs": [],
   "source": [
    "data_path =\"../dataset/data_v2.json\"\n",
    "max_sent_len = params[\"max_sent_len\"]\n",
    "texts, intent_labels, slots_ners = extract_data(data_path)\n",
    "# l = len(texts) // params['batch_size']\n",
    "# texts = texts[:l*params['batch_size']]\n",
    "# intent =  intent[:l*params['batch_size']]\n",
    "# slots_ners = slots_ners[:l*params['batch_size']]\n",
    "train_text = [d for i , d in enumerate(texts) if i % 10 != 0]\n",
    "train_l = len(train_text) // params['batch_size']\n",
    "train_text = train_text[:train_l*params['batch_size']]\n",
    "valid_text = [d for i , d in enumerate(texts) if i % 10 == 0]\n",
    "valid_l = len(valid_text) // params['batch_size']\n",
    "valid_text = valid_text[:valid_l*params['batch_size']]\n",
    "\n",
    "train_intent = [d for i , d in enumerate(intent_labels) if i % 10 != 0]\n",
    "train_intent = train_intent[:train_l*params['batch_size']]\n",
    "valid_intent = [d for i , d in enumerate(intent_labels) if i % 10 == 0]\n",
    "valid_intent = valid_intent[:valid_l*params['batch_size']]\n",
    "\n",
    "train_ner = [d for i , d in enumerate(slots_ners) if i % 10 != 0]\n",
    "train_ner = train_ner[:train_l*params['batch_size']]\n",
    "valid_ner = [d for i , d in enumerate(slots_ners) if i % 10 == 0]\n",
    "valid_ner =valid_ner[:valid_l*params['batch_size']]"
   ]
  },
  {
   "cell_type": "code",
   "execution_count": null,
   "metadata": {},
   "outputs": [],
   "source": [
    "# 构建文本字符索引"
   ]
  },
  {
   "cell_type": "code",
   "execution_count": null,
   "metadata": {},
   "outputs": [],
   "source": [
    "text_set = []\n",
    "for i in texts:\n",
    "    for j in i:\n",
    "        text_set.append(j)\n",
    "\n",
    "character = ['PADL'] \n",
    "for i in set(text_set):\n",
    "    character.append(i)\n",
    "\n",
    "char2id = {}\n",
    "for index, val in enumerate(character):\n",
    "    char2id.update({val:index})\n",
    "\n",
    "id2char = {}\n",
    "for index, val in enumerate(character):\n",
    "    id2char.update({index:val})  "
   ]
  },
  {
   "cell_type": "code",
   "execution_count": null,
   "metadata": {},
   "outputs": [],
   "source": [
    "# 构建意图索引"
   ]
  },
  {
   "cell_type": "code",
   "execution_count": null,
   "metadata": {},
   "outputs": [],
   "source": [
    "intent = ['PADL'] \n",
    "for i in set(intent_labels):\n",
    "    intent.append(i)\n",
    "\n",
    "intent2id = {}\n",
    "for index, val in enumerate(intent):\n",
    "    intent2id.update({val:index})\n",
    "\n",
    "id2intent = {}\n",
    "for index, val in enumerate(intent):\n",
    "    id2intent.update({index:val})"
   ]
  },
  {
   "cell_type": "code",
   "execution_count": null,
   "metadata": {},
   "outputs": [],
   "source": [
    "# 构建槽位索引"
   ]
  },
  {
   "cell_type": "code",
   "execution_count": null,
   "metadata": {},
   "outputs": [],
   "source": [
    "slot_set = []\n",
    "for i in slots_ners:\n",
    "    for j in i:\n",
    "        slot_set.append(j)\n",
    "        \n",
    "slot = ['PADL']\n",
    "for i in set(slot_set):\n",
    "    slot.append(i)\n",
    "    \n",
    "slot2id = {}\n",
    "for index, val in enumerate(slot):\n",
    "    slot2id.update({val:index})\n",
    "\n",
    "id2slot = {}\n",
    "for index, val in enumerate(slot):\n",
    "    id2slot.update({index:val})"
   ]
  },
  {
   "cell_type": "code",
   "execution_count": null,
   "metadata": {},
   "outputs": [],
   "source": [
    "char = {}\n",
    "char.update({'char2id' : char2id})\n",
    "char.update({'id2char' : id2char})\n",
    "char.update({'intent2id' : intent2id})\n",
    "char.update({'id2intent' : id2intent})\n",
    "char.update({'slot2id' : slot2id})\n",
    "char.update({'id2slot' : id2slot})\n",
    "\n",
    "with open('./char_conv.json', mode='w', encoding='utf-8') as f:\n",
    "    json.dump(char, f)   "
   ]
  }
 ],
 "metadata": {
  "kernelspec": {
   "display_name": "Python 3",
   "language": "python",
   "name": "python3"
  },
  "language_info": {
   "codemirror_mode": {
    "name": "ipython",
    "version": 3
   },
   "file_extension": ".py",
   "mimetype": "text/x-python",
   "name": "python",
   "nbconvert_exporter": "python",
   "pygments_lexer": "ipython3",
   "version": "3.7.7"
  }
 },
 "nbformat": 4,
 "nbformat_minor": 4
}
